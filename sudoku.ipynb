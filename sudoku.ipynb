{
 "cells": [
  {
   "cell_type": "code",
   "execution_count": 1,
   "metadata": {},
   "outputs": [],
   "source": [
    "import numpy as np\n",
    "import pandas as pd\n",
    "import time\n",
    "import itertools\n",
    "\n",
    "sudoku_df = pd.DataFrame(pd.read_csv('sudoku.csv', nrows = 10**2))"
   ]
  },
  {
   "cell_type": "code",
   "execution_count": null,
   "metadata": {
    "scrolled": true
   },
   "outputs": [],
   "source": []
  },
  {
   "cell_type": "code",
   "execution_count": 2,
   "metadata": {},
   "outputs": [],
   "source": [
    "def shape(sudoku_df):\n",
    "    for n in range(sudoku_df.shape[0]):\n",
    "        sudoku_df.iloc[n,0] = np.reshape(list(sudoku_df.puzzle.values[n]),(9,9)).astype(int)\n",
    "        sudoku_df.iloc[n,1] = np.reshape(list(sudoku_df.solution.values[n]),(9,9)).astype(int)\n",
    "    return sudoku_df"
   ]
  },
  {
   "cell_type": "code",
   "execution_count": 3,
   "metadata": {},
   "outputs": [
    {
     "data": {
      "text/plain": [
       "array([[0, 7, 0, 0, 0, 0, 0, 4, 3],\n",
       "       [0, 4, 0, 0, 0, 9, 6, 1, 0],\n",
       "       [8, 0, 0, 6, 3, 4, 9, 0, 0],\n",
       "       [0, 9, 4, 0, 5, 2, 0, 0, 0],\n",
       "       [3, 5, 8, 4, 6, 0, 0, 2, 0],\n",
       "       [0, 0, 0, 8, 0, 0, 5, 3, 0],\n",
       "       [0, 8, 0, 0, 7, 0, 0, 9, 1],\n",
       "       [9, 0, 2, 1, 0, 0, 0, 0, 5],\n",
       "       [0, 0, 7, 0, 4, 0, 8, 0, 2]])"
      ]
     },
     "execution_count": 3,
     "metadata": {},
     "output_type": "execute_result"
    }
   ],
   "source": [
    "sudoku_df = shape(sudoku_df)\n",
    "sudoku_df.iloc[0,0]"
   ]
  },
  {
   "cell_type": "code",
   "execution_count": 4,
   "metadata": {},
   "outputs": [
    {
     "data": {
      "text/plain": [
       "array([[6, 7, 9, 5, 1, 8, 2, 4, 3],\n",
       "       [5, 4, 3, 7, 2, 9, 6, 1, 8],\n",
       "       [8, 2, 1, 6, 3, 4, 9, 5, 7],\n",
       "       [7, 9, 4, 3, 5, 2, 1, 8, 6],\n",
       "       [3, 5, 8, 4, 6, 1, 7, 2, 9],\n",
       "       [2, 1, 6, 8, 9, 7, 5, 3, 4],\n",
       "       [4, 8, 5, 2, 7, 6, 3, 9, 1],\n",
       "       [9, 6, 2, 1, 8, 3, 4, 7, 5],\n",
       "       [1, 3, 7, 9, 4, 5, 8, 6, 2]])"
      ]
     },
     "execution_count": 4,
     "metadata": {},
     "output_type": "execute_result"
    }
   ],
   "source": [
    "sudoku_df.iloc[0,1]"
   ]
  },
  {
   "cell_type": "code",
   "execution_count": 5,
   "metadata": {},
   "outputs": [],
   "source": [
    "def checkPuzzle(sudoku_puzzle):\n",
    "    checkRow = all([all([x in sudoku_puzzle[nrow,:] for x in range(1,10)]) for nrow in range(9)])\n",
    "    checkCol = all([all([x in sudoku_puzzle[:,ncol] for x in range(1,10)]) for ncol in range(9)])\n",
    "\n",
    "    checkUpperLeft = all([x in sudoku_puzzle[0:3,0:3] for x in range(1,10)])\n",
    "    checkUpperMid = all([x in sudoku_puzzle[0:3,3:6] for x in range(1,10)])\n",
    "    checkUpperRight = all([x in sudoku_puzzle[0:3,6:9] for x in range(1,10)])\n",
    "\n",
    "    checkMidLeft = all([x in sudoku_puzzle[3:6,0:3] for x in range(1,10)])\n",
    "    checkMidMid = all([x in sudoku_puzzle[3:6,3:6] for x in range(1,10)])\n",
    "    checkMidRight = all([x in sudoku_puzzle[3:6,6:9] for x in range(1,10)])\n",
    "\n",
    "    checkLowerLeft = all([x in sudoku_puzzle[6:9,0:3] for x in range(1,10)])\n",
    "    checkLowerMid = all([x in sudoku_puzzle[6:9,3:6] for x in range(1,10)])\n",
    "    checkLowerRight = all([x in sudoku_puzzle[6:9,6:9] for x in range(1,10)])\n",
    "\n",
    "    solved = all([checkRow,checkCol,checkUpperLeft,checkUpperMid,checkUpperRight,\n",
    "                  checkMidLeft,checkMidMid,checkMidRight,checkLowerLeft,checkLowerMid,checkLowerRight])\n",
    "    if solved:\n",
    "        for line in sudoku_puzzle:\n",
    "            print(*line)\n",
    "    return solved\n",
    "\n",
    "def determineValues(sudoku_puzzle):\n",
    "    puzzle_values = list()\n",
    "    for r in range(9):\n",
    "        for c in range(9):\n",
    "            if sudoku_puzzle[r,c] == 0:\n",
    "                cell_values = np.array(range(1,10))\n",
    "                cell_values = np.setdiff1d(cell_values,sudoku_puzzle[r,:][np.where(sudoku_puzzle[r,:] != 0)]).tolist()\n",
    "                cell_values = np.setdiff1d(cell_values,sudoku_puzzle[:,c][np.where(sudoku_puzzle[:,c] != 0)]).tolist()\n",
    "            else:\n",
    "                cell_values = [sudoku_puzzle[r,c]]\n",
    "            puzzle_values.append(cell_values)\n",
    "    return puzzle_values\n",
    "\n",
    "def bruteForce_check(puzzle_values):\n",
    "    first = np.array(np.meshgrid(*puzzle_values[0:27])).T.reshape(-1,3,9)\n",
    "    second = np.array(np.meshgrid(*puzzle_values[27:54])).T.reshape(-1,3,9)\n",
    "    third = np.array(np.meshgrid(*puzzle_values[54:])).T.reshape(-1,3,9)\n",
    "\n",
    "    start_time = time.time()\n",
    "    for i in range(first.shape[0]):\n",
    "        for j in range(second.shape[0]):\n",
    "            for k in range(third.shape[0]):\n",
    "                potential_solution = np.concatenate((first[i],second[j], third[k]))\n",
    "                solution = checkPuzzle(potential_solution)\n",
    "                iterations = 10**4\n",
    "                if (i+1)*(j+1)*(k+1) == iterations:\n",
    "                    current_time = time.time()\n",
    "                    run_time = current_time - start_time\n",
    "                    print('Projected Number of Days: ')\n",
    "                    print(\"{:.2e}\".format(combinations*(run_time/iterations)/(24*3600)))\n",
    "                    break\n",
    "                else:\n",
    "                    continue\n",
    "            break\n",
    "        break\n",
    "\n",
    "def checkGrids(r,c,sudoku_puzzle,n):\n",
    "    if r < 3:\n",
    "        if c < 3:\n",
    "            subgrid = n in sudoku_puzzle[0:3,0:3]\n",
    "        elif c < 6:\n",
    "            subgrid = n in sudoku_puzzle[0:3,3:6] \n",
    "        else:\n",
    "            subgrid = n in sudoku_puzzle[0:3,6:9]\n",
    "    elif r < 6:\n",
    "        if c < 3:\n",
    "            subgrid = n in sudoku_puzzle[3:6,0:3]\n",
    "        elif c < 6:\n",
    "            subgrid = n in sudoku_puzzle[3:6,3:6]\n",
    "        else:\n",
    "            subgrid = n in sudoku_puzzle[3:6,6:9]        \n",
    "    else:\n",
    "        if c < 3:\n",
    "            subgrid = n in sudoku_puzzle[6:9,0:3]\n",
    "        elif c < 6:\n",
    "            subgrid = n in sudoku_puzzle[6:9,3:6]\n",
    "        else:\n",
    "            subgrid = n in sudoku_puzzle[6:9,6:9]  \n",
    "    return subgrid\n",
    "\n",
    "def solve(sudoku_puzzle,puzzle_values):\n",
    "    count = 0\n",
    "    solution = False\n",
    "    rows = np.array(np.where(sudoku_puzzle == 0))[0]\n",
    "    cols = np.array(np.where(sudoku_puzzle == 0))[1]\n",
    "    dic = dict(zip(list(range(len(rows))), np.zeros(len(rows),dtype = int).tolist()))\n",
    "    while solution == False:\n",
    "        if count >= len(rows):\n",
    "            solution = checkPuzzle(sudoku_puzzle)\n",
    "            break\n",
    "        r = rows[count]\n",
    "        c = cols[count]\n",
    "        len_num = len(np.array(puzzle_values).reshape(9,9)[r,c])\n",
    "        num = dic[count]\n",
    "        while num < len_num:\n",
    "            cell = np.array(puzzle_values).reshape(9,9)[r,c][num]\n",
    "            checkRow = cell in sudoku_puzzle[r,:]\n",
    "            if checkRow:\n",
    "                num += 1\n",
    "                continue\n",
    "            checkCol = cell in sudoku_puzzle[:,c]\n",
    "            if checkCol:\n",
    "                num += 1\n",
    "                continue\n",
    "            checkGrid = checkGrids(r,c,sudoku_puzzle,cell)\n",
    "            if checkGrid:\n",
    "                num += 1\n",
    "                continue\n",
    "            dic[count] = num\n",
    "            count += 1\n",
    "            sudoku_puzzle[r,c] = cell\n",
    "            break\n",
    "        else:\n",
    "            sudoku_puzzle[r,c] = 0 \n",
    "            dic[count] = 0\n",
    "            count -= 1 \n",
    "    \n"
   ]
  },
  {
   "cell_type": "code",
   "execution_count": 6,
   "metadata": {
    "scrolled": true
   },
   "outputs": [
    {
     "data": {
      "text/plain": [
       "[[1, 2, 5, 6],\n",
       " [7],\n",
       " [1, 5, 6, 9],\n",
       " [2, 5, 9],\n",
       " [1, 2, 8, 9],\n",
       " [1, 5, 6, 8],\n",
       " [1, 2],\n",
       " [4],\n",
       " [3],\n",
       " [2, 5, 7],\n",
       " [4],\n",
       " [3, 5],\n",
       " [2, 3, 5, 7],\n",
       " [2, 8],\n",
       " [9],\n",
       " [6],\n",
       " [1],\n",
       " [7, 8],\n",
       " [8],\n",
       " [1, 2],\n",
       " [1, 5],\n",
       " [6],\n",
       " [3],\n",
       " [4],\n",
       " [9],\n",
       " [5, 7],\n",
       " [7],\n",
       " [1, 6, 7],\n",
       " [9],\n",
       " [4],\n",
       " [3, 7],\n",
       " [5],\n",
       " [2],\n",
       " [1, 3, 7],\n",
       " [6, 7, 8],\n",
       " [6, 7, 8],\n",
       " [3],\n",
       " [5],\n",
       " [8],\n",
       " [4],\n",
       " [6],\n",
       " [1, 7],\n",
       " [1, 7],\n",
       " [2],\n",
       " [7, 9],\n",
       " [1, 2, 4, 6, 7],\n",
       " [1, 2, 6],\n",
       " [1, 6, 9],\n",
       " [8],\n",
       " [1, 2, 9],\n",
       " [1, 6, 7],\n",
       " [5],\n",
       " [3],\n",
       " [4, 6, 7, 9],\n",
       " [2, 4, 5, 6],\n",
       " [8],\n",
       " [3, 5, 6],\n",
       " [2, 3, 5],\n",
       " [7],\n",
       " [3, 5, 6],\n",
       " [2, 3, 4],\n",
       " [9],\n",
       " [1],\n",
       " [9],\n",
       " [3, 6],\n",
       " [2],\n",
       " [1],\n",
       " [8],\n",
       " [3, 6, 7, 8],\n",
       " [3, 4, 7],\n",
       " [6, 7, 8],\n",
       " [5],\n",
       " [1, 5, 6],\n",
       " [1, 3, 6],\n",
       " [7],\n",
       " [3, 5, 9],\n",
       " [4],\n",
       " [1, 3, 5, 6],\n",
       " [8],\n",
       " [5, 6],\n",
       " [2]]"
      ]
     },
     "execution_count": 6,
     "metadata": {},
     "output_type": "execute_result"
    }
   ],
   "source": [
    "puzzle_values = determineValues(sudoku_df.iloc[0,0])\n",
    "puzzle_values"
   ]
  },
  {
   "cell_type": "code",
   "execution_count": 7,
   "metadata": {
    "scrolled": true
   },
   "outputs": [
    {
     "data": {
      "text/plain": [
       "array([[6, 7, 9, 5, 1, 8, 2, 4, 3],\n",
       "       [5, 4, 3, 7, 2, 9, 6, 1, 8],\n",
       "       [8, 2, 1, 6, 3, 4, 9, 5, 7],\n",
       "       [7, 9, 4, 3, 5, 2, 1, 8, 6],\n",
       "       [3, 5, 8, 4, 6, 1, 7, 2, 9],\n",
       "       [2, 1, 6, 8, 9, 7, 5, 3, 4],\n",
       "       [4, 8, 5, 2, 7, 6, 3, 9, 1],\n",
       "       [9, 6, 2, 1, 8, 3, 4, 7, 5],\n",
       "       [1, 3, 7, 9, 4, 5, 8, 6, 2]])"
      ]
     },
     "execution_count": 7,
     "metadata": {},
     "output_type": "execute_result"
    }
   ],
   "source": [
    "#puzzle 1\n",
    "sudoku_df.iloc[0,1]"
   ]
  },
  {
   "cell_type": "code",
   "execution_count": 8,
   "metadata": {},
   "outputs": [
    {
     "data": {
      "text/plain": [
       "44"
      ]
     },
     "execution_count": 8,
     "metadata": {},
     "output_type": "execute_result"
    }
   ],
   "source": [
    "len(np.where(sudoku_df.iloc[0,0] == 0)[0])"
   ]
  },
  {
   "cell_type": "code",
   "execution_count": 9,
   "metadata": {},
   "outputs": [
    {
     "data": {
      "text/plain": [
       "'9.70e+41'"
      ]
     },
     "execution_count": 9,
     "metadata": {},
     "output_type": "execute_result"
    }
   ],
   "source": [
    "#number of possibilities without considering nonzero values\n",
    "\"{:.2e}\".format(9**len(np.where(sudoku_df.iloc[0,0] == 0)[0]))"
   ]
  },
  {
   "cell_type": "code",
   "execution_count": 10,
   "metadata": {},
   "outputs": [
    {
     "data": {
      "text/plain": [
       "'1.25e+19'"
      ]
     },
     "execution_count": 10,
     "metadata": {},
     "output_type": "execute_result"
    }
   ],
   "source": [
    "#number of possibilities considering nonzero values\n",
    "combinations = 1\n",
    "for i in range(81):\n",
    "    combinations = combinations*len(puzzle_values[i])\n",
    "\"{:.2e}\".format(combinations)  "
   ]
  },
  {
   "cell_type": "code",
   "execution_count": 11,
   "metadata": {},
   "outputs": [
    {
     "name": "stdout",
     "output_type": "stream",
     "text": [
      "Projected Number of Days: \n",
      "2.47e+11\n"
     ]
    }
   ],
   "source": [
    "bruteForce_check(puzzle_values)\n"
   ]
  },
  {
   "cell_type": "code",
   "execution_count": 14,
   "metadata": {
    "scrolled": true
   },
   "outputs": [
    {
     "name": "stdout",
     "output_type": "stream",
     "text": [
      "6 7 9 5 1 8 2 4 3\n",
      "5 4 3 7 2 9 6 1 8\n",
      "8 2 1 6 3 4 9 5 7\n",
      "7 9 4 3 5 2 1 8 6\n",
      "3 5 8 4 6 1 7 2 9\n",
      "2 1 6 8 9 7 5 3 4\n",
      "4 8 5 2 7 6 3 9 1\n",
      "9 6 2 1 8 3 4 7 5\n",
      "1 3 7 9 4 5 8 6 2\n"
     ]
    }
   ],
   "source": [
    "solve(sudoku_df.iloc[0,0],puzzle_values)"
   ]
  },
  {
   "cell_type": "code",
   "execution_count": 15,
   "metadata": {
    "scrolled": true
   },
   "outputs": [
    {
     "data": {
      "text/plain": [
       "array([[6, 7, 9, 5, 1, 8, 2, 4, 3],\n",
       "       [5, 4, 3, 7, 2, 9, 6, 1, 8],\n",
       "       [8, 2, 1, 6, 3, 4, 9, 5, 7],\n",
       "       [7, 9, 4, 3, 5, 2, 1, 8, 6],\n",
       "       [3, 5, 8, 4, 6, 1, 7, 2, 9],\n",
       "       [2, 1, 6, 8, 9, 7, 5, 3, 4],\n",
       "       [4, 8, 5, 2, 7, 6, 3, 9, 1],\n",
       "       [9, 6, 2, 1, 8, 3, 4, 7, 5],\n",
       "       [1, 3, 7, 9, 4, 5, 8, 6, 2]])"
      ]
     },
     "execution_count": 15,
     "metadata": {},
     "output_type": "execute_result"
    }
   ],
   "source": [
    "sudoku_df.iloc[0,1]"
   ]
  },
  {
   "cell_type": "code",
   "execution_count": null,
   "metadata": {},
   "outputs": [],
   "source": []
  },
  {
   "cell_type": "code",
   "execution_count": null,
   "metadata": {},
   "outputs": [],
   "source": []
  }
 ],
 "metadata": {
  "kernelspec": {
   "display_name": "Python 3",
   "language": "python",
   "name": "python3"
  },
  "language_info": {
   "codemirror_mode": {
    "name": "ipython",
    "version": 3
   },
   "file_extension": ".py",
   "mimetype": "text/x-python",
   "name": "python",
   "nbconvert_exporter": "python",
   "pygments_lexer": "ipython3",
   "version": "3.7.6"
  }
 },
 "nbformat": 4,
 "nbformat_minor": 4
}
